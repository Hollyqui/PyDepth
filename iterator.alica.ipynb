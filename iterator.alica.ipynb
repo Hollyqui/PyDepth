{
 "cells": [
  {
   "cell_type": "code",
   "execution_count": 15,
   "metadata": {},
   "outputs": [],
   "source": [
    "import numpy as np\n",
    "import matplotlib.pyplot as plt"
   ]
  },
  {
   "cell_type": "code",
   "execution_count": 51,
   "metadata": {},
   "outputs": [],
   "source": [
    "def compare(left_square, right_square): #here we define the compare function-other people are working on it\n",
    "    # Here goes the Neural Network to do actual comparison, for now it will just return a random value.\n",
    "    return np.random.rand()"
   ]
  },
  {
   "cell_type": "code",
   "execution_count": 117,
   "metadata": {},
   "outputs": [],
   "source": [
    "    #define function that finds same-looking pixels, that depends on plenty of variables\n",
    "def find_pixels(left_image, right_image, square_size, nth_pixel_checked, sa_height, sa_width):\n",
    "        initial1 = 5\n",
    "        initial2 = 5 #where it starts checking,which sould equal to square size value ; for now, pick 5, later NN changes it\n",
    "        x = initial1\n",
    "        y = initial2 #your initial x,y are the initial values specified above\n",
    "    \n",
    "        #you go to left picture and pick an initial pixel and the square size are around it\n",
    "        left_square = left_image[x-square_size:x+square_size,     y-square_size:y+square_size] \n",
    "    \n",
    "        #define search area in which I look for same pixels (that will be at the RIGHT image)\n",
    "        #start of search area\n",
    "        starting_x = x-sa_width\n",
    "        starting_y = y-sa_height\n",
    "        #end of search area\n",
    "        ending_x = x+sa_width\n",
    "        ending_y = y+sa_height\n",
    "\n",
    "        #now I need to see how much the two areas are alike (LIKELINESS), then figure out to which pixel on left image that corresponds (BEST MATCH) \n",
    "        highest_likeness = 0 #at the beginning, before comparing the picture, the likeliness is 0\n",
    "        best_match_position = (0,0) #your initial best match is 0\n",
    "        for i in range(starting_x, ending_x, nth_pixel_checked): #for every i and\n",
    "            for j in range(starting_y, ending_y): #for every j in the search area\n",
    "                right_image[i,j] #of the right image; around this point I need to write a square_size (i, j now start at 0!!!)\n",
    "                right_square = right_image[i-square_size:i+square_size,   j-square_size:j+square_size] #define right image and from which to which element it goes\n",
    "        #by now I have itinerated through every part pixel (and its square_size surroundings) of the search area  \n",
    "\n",
    "                likeness = compare(left_square, right_square) #this function will compare the likeness of each right square to the left square\n",
    "                if likeness > highest_likeness: #if the new likeness is bigger than the set highest likeness (at the beginning, 0)\n",
    "                    highest_likeness = likeness #set your new likeness as your highest likeliness\n",
    "                    best_match_position = (i,j) #also, set your best match position (to which the new highest likeness corresponds) to their new values i, j\n",
    "        #now you know where the pixel from the left image is located on the right image! :D\n",
    "\n",
    "        print(x,y, \"correspond to\", i,j)\n",
    "    \n"
   ]
  },
  {
   "cell_type": "code",
   "execution_count": 118,
   "metadata": {
    "scrolled": false
   },
   "outputs": [
    {
     "name": "stdout",
     "output_type": "stream",
     "text": [
      "5 5 correspond to 23 9\n"
     ]
    }
   ],
   "source": [
    "if __name__ == '__main__': #This is the main function that can then call the other functions\n",
    "    image_height = 480\n",
    "    image_width = 640\n",
    "    square_size = 5 #we can modify later (nn will figure out what value fits best)\n",
    "    nth_pixel_checked = 2 # the location of every nth (where n is the value of the variable) pixel will be checked (NN modifies later)\n",
    "    sa_height, sa_width = 5, 20 # height of area searched, width of area searched (NN modifies later)\n",
    "    # generate random \"images\" (matrices) - before we get real NN\n",
    "    left_image = np.random.rand(480, 640)\n",
    "    right_image = np.random.rand(480, 640)\n",
    "    # just visualized the input images\n",
    "    #plt.imshow(left_image)\n",
    "    #plt.figure()\n",
    "    #plt.imshow(right_image)\n",
    "    # calls find_pixels function and passes all the arguments\n",
    "    find_pixels(left_image, right_image, square_size, nth_pixel_checked, sa_height, sa_width) #this is explained in the cell above"
   ]
  }
 ],
 "metadata": {
  "kernelspec": {
   "display_name": "Python 3",
   "language": "python",
   "name": "python3"
  },
  "language_info": {
   "codemirror_mode": {
    "name": "ipython",
    "version": 3
   },
   "file_extension": ".py",
   "mimetype": "text/x-python",
   "name": "python",
   "nbconvert_exporter": "python",
   "pygments_lexer": "ipython3",
   "version": "3.7.4"
  }
 },
 "nbformat": 4,
 "nbformat_minor": 2
}
