{
 "cells": [
  {
   "cell_type": "code",
   "execution_count": null,
   "metadata": {},
   "outputs": [],
   "source": [
    "# Tsukuba Dataset Preprocessing script (only deals with small portions - runs out of ram if applied to whole dataset)"
   ]
  },
  {
   "cell_type": "code",
   "execution_count": null,
   "metadata": {},
   "outputs": [],
   "source": [
    "# Importing libraries\n",
    "\n",
    "import matplotlib.image as mpimg\n",
    "import matplotlib.pyplot as plt\n",
    "import glob\n",
    "import os\n",
    "import numpy as np\n",
    "from xml.dom import minidom\n",
    "import cv2\n",
    "from PIL import Image"
   ]
  },
  {
   "cell_type": "code",
   "execution_count": null,
   "metadata": {},
   "outputs": [],
   "source": [
    "# Loads all the input images and saves them as numpy array\n",
    "\n",
    "image_list = []\n",
    "\n",
    "# Load left images\n",
    "img_dir = \"C:/Users/felix/Downloads/Stereovision/SmallTest/fluorescent/left_images\"\n",
    "data_path = os.path.join(img_dir,'*png')\n",
    "files = sorted(glob.glob(data_path))\n",
    "left_images = []\n",
    "for image in files:\n",
    "    print(image)\n",
    "    img = mpimg.imread(image)\n",
    "    left_images.append(img[:,:,:3])\n",
    "    \n",
    "# Load right images\n",
    "img_dir = \"C:/Users/felix/Downloads/Stereovision/SmallTest/fluorescent/right_images\" \n",
    "data_path = os.path.join(img_dir,'*png')\n",
    "files = sorted(glob.glob(data_path))\n",
    "right_images = []\n",
    "for image in files:\n",
    "    print(image)\n",
    "    img = mpimg.imread(image)\n",
    "    right_images.append(img[:,:,:3])\n",
    "\n",
    "right_images = np.array(right_images)\n",
    "left_images = np.array(left_images)\n",
    "\n",
    "np.save(\"C:/Users/felix/Downloads/Stereovision/SmallTest/fluorescent/right_images_numpy\", right_images)\n",
    "np.save(\"C:/Users/felix/Downloads/Stereovision/SmallTest/fluorescent/left_images_numpy\", left_images)"
   ]
  },
  {
   "cell_type": "code",
   "execution_count": null,
   "metadata": {},
   "outputs": [],
   "source": [
    "# Loads xml files and saves them into numpy array (for depthmaps)\n",
    "\n",
    "xml_list = []\n",
    "img_dir = \"C:/Users/felix/Downloads/Stereovision/SmallTest/fluorescent/left_xml\" \n",
    "data_path = os.path.join(img_dir,'*xml')\n",
    "files = glob.glob(data_path)\n",
    "right_images = []\n",
    "for image in files:\n",
    "    cv_file = cv2.FileStorage(image, "cv2.FILE_STORAGE_READ")       # reading my xml file as a storage file\n",
    "    matrix = cv_file.getNode(\"depth\").mat()               # getting the node of the 2D array named \"depth\" as shown in the  above xml file.\n",
    "    xml_list.append(matrix)\n",
    "\n",
    "xml_list = np.array(xml_list)\n",
    "np.save(\"C:/Users/felix/Downloads/Stereovision/SmallTest/fluorescent/depthmaps_numpy\", xml_list)\n",
    "plt.imshow(xml_list[0])"
   ]
  }
 ],
 "metadata": {
  "kernelspec": {
   "display_name": "Python 3",
   "language": "python",
   "name": "python3"
  },
  "language_info": {
   "codemirror_mode": {
    "name": "ipython",
    "version": 3
   },
   "file_extension": ".py",
   "mimetype": "text/x-python",
   "name": "python",
   "nbconvert_exporter": "python",
   "pygments_lexer": "ipython3",
   "version": "3.7.3"
  }
 },
 "nbformat": 4,
 "nbformat_minor": 2
}
