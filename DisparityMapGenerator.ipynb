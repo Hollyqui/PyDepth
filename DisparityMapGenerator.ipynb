{
  "nbformat": 4,
  "nbformat_minor": 0,
  "metadata": {
    "colab": {
      "name": "DisparityMapGenerator.ipynb",
      "provenance": [],
      "collapsed_sections": []
    },
    "kernelspec": {
      "name": "python3",
      "display_name": "Python 3"
    }
  },
  "cells": [
    {
      "cell_type": "code",
      "metadata": {
        "id": "bb3hDfGUFYBj",
        "colab_type": "code",
        "colab": {}
      },
      "source": [
        "import numpy as np\n",
        "import matplotlib.pyplot as plt"
      ],
      "execution_count": 0,
      "outputs": []
    },
    {
      "cell_type": "code",
      "metadata": {
        "id": "28PrnSi8FaqX",
        "colab_type": "code",
        "colab": {}
      },
      "source": [
        "'''Compares two squares of (at the moment 9x9 size - adjustable if neural net is retrained)\n",
        "and gives a 'likeliness' value for it, meaning that the ones with the highest likeliness\n",
        "value can be selected to generate the disparity map'''\n",
        "def compare(left_square, right_square): #here we define the compare function-other people are working on it\n",
        "    # Here goes the Neural Network to do actual comparison, for now it will just return a random value.\n",
        "    return np.random.rand()"
      ],
      "execution_count": 0,
      "outputs": []
    },
    {
      "cell_type": "code",
      "metadata": {
        "id": "wX450q2ZI4s1",
        "colab_type": "code",
        "colab": {}
      },
      "source": [
        "'''Iterates through all the pixels of the image and calls the \"find_matching_pixel\" \n",
        "function for each one - also generates a depthmap based on the absolute depth at the same time'''\n",
        "def find_all_pixels(left_image, right_image, square_size, nth_pixel_checked, sa_height, sa_width):\n",
        "  depthmap = np.zeros((len(left_image), len(left_image[0])))\n",
        "  for i in range(square_size, len(left_image)):\n",
        "    for j in range(square_size, len(left_image[0]), nth_pixel_checked):\n",
        "      x, y = find_matching_pixel(left_image, right_image, square_size, nth_pixel_checked, sa_height, sa_width, i, j)\n",
        "      depthmap[i][j] = depth(np.sqrt((x-i)**2+(y-j)**2))\n",
        "  return depthmap\n"
      ],
      "execution_count": 0,
      "outputs": []
    },
    {
      "cell_type": "code",
      "metadata": {
        "id": "2x4-YskwFbUl",
        "colab_type": "code",
        "colab": {}
      },
      "source": [
        "'''Iterates through a preset search area and finds the best matching pixel so that\n",
        "after calling this function for each pixel on the image a depthmap can be generated'''\n",
        "def find_matching_pixel(left_image, right_image, square_size, nth_pixel_checked, sa_height, sa_width, x, y):\n",
        "        #you go to left picture and pick an initial pixel and the square size are around it\n",
        "        left_square = left_image[x-square_size:x+square_size+1, y-square_size:y+square_size+1] \n",
        "    \n",
        "        #define search area in which I look for same pixels (that will be at the RIGHT image)\n",
        "        #start of search area\n",
        "        starting_x = max(square_size, x-sa_width) # make sure doesn't go outside of actual image \n",
        "        starting_y = max(square_size, y-sa_height)\n",
        "        #end of search area\n",
        "        ending_x = min(len(left_image)-square_size, x)\n",
        "        ending_y = min(len(left_image[0])-square_size, y+sa_height+1)\n",
        "\n",
        "        #now I need to see how much the two areas are alike (LIKELINESS), then figure out to which pixel on left image that corresponds (BEST MATCH) \n",
        "        highest_likeness = 0 #at the beginning, before comparing the picture, the likeliness is 0\n",
        "        best_match_position = (0,0) #your initial best match is 0\n",
        "        for i in range(starting_x, ending_x): #for every i and\n",
        "            for j in range(starting_y, ending_y, nth_pixel_checked): #for every j in the search area\n",
        "                right_square = right_image[i-square_size:i+square_size+1, j-square_size:j+square_size+1] #define right image and from which to which element it goes\n",
        "        #by now I have itinerated through every part pixel (and its square_size surroundings) of the search area  \n",
        "                #rint(right_square)\n",
        "                likeness = compare(left_square, right_square) #this function will compare the likeness of each right square to the left square\n",
        "                if likeness > highest_likeness: #if the new likeness is bigger than the set highest likeness (at the beginning, 0)\n",
        "                    highest_likeness = likeness #set your new likeness as your highest likeliness\n",
        "                    best_i, best_j = i, j #also, set your best match position (to which the new highest likeness corresponds) to their new values i, j\n",
        "        #now you know where the pixel from the left image is located on the right image! :D        \n",
        "        return best_i, best_j"
      ],
      "execution_count": 0,
      "outputs": []
    },
    {
      "cell_type": "code",
      "metadata": {
        "id": "zB-YbLrCFjNx",
        "colab_type": "code",
        "colab": {}
      },
      "source": [
        "''' computes absolute distance based on the disparity of the pixel '''\n",
        "def depth(disparity):\n",
        "    f=1 #focal length of the camera\n",
        "    B=0.2 #distance between camera centers\n",
        "    z=f*B/disparity #z is depth-you get distance in meters\n",
        "    #scaling of z: what is the furthest away point? depends on in which environment we intend to use it.150?\n",
        "    # max_distance=150\n",
        "    # deep=255#scale it to get a scale 0-255\n",
        "    return z"
      ],
      "execution_count": 0,
      "outputs": []
    },
    {
      "cell_type": "code",
      "metadata": {
        "id": "6g4f5mIlFlTU",
        "colab_type": "code",
        "colab": {}
      },
      "source": [
        "if __name__ == '__main__': #This is the main function that can then call the other functions\n",
        "    image_height = 480\n",
        "    image_width = 640\n",
        "    square_size = 5 #we can modify later (nn will figure out what value fits best)\n",
        "    nth_pixel_checked = 1 # the location of every nth (where n is the value of the variable) pixel will be checked (NN modifies later)\n",
        "    sa_height, sa_width = 2, 20 # height of area searched, width of area searched (NN modifies later)\n",
        "    # generate random \"images\" (matrices) - before we get real NN\n",
        "    left_image = np.random.rand(480, 640, 3)\n",
        "    right_image = np.random.rand(480, 640, 3)\n",
        "    left_image = np.pad(left_image,[(square_size, square_size), (square_size, square_size), (0,0)], constant_values=-1)\n",
        "    right_image = np.pad(right_image,[(square_size, square_size), (square_size, square_size), (0,0)], constant_values=-1)\n",
        "    # just visualized the input images\n",
        "    plt.imshow(left_image)\n",
        "    plt.figure()\n",
        "    plt.imshow(right_image)\n",
        "    # calls find_pixels function and passes all the arguments\n",
        "    depthmap = find_all_pixels(left_image, right_image, square_size, nth_pixel_checked, sa_height, sa_width) \n",
        "    plt.figure()\n",
        "    plt.imshow(depthmap)"
      ],
      "execution_count": 0,
      "outputs": []
    },
    {
      "cell_type": "code",
      "metadata": {
        "id": "0El4JyPiNUmS",
        "colab_type": "code",
        "colab": {}
      },
      "source": [
        ""
      ],
      "execution_count": 0,
      "outputs": []
    }
  ]
}